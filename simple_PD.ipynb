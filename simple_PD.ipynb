{
 "cells": [
  {
   "cell_type": "code",
   "execution_count": 1,
   "metadata": {},
   "outputs": [],
   "source": [
    "import os\n",
    "os.environ['OPENAI_API_KEY'] = 'YOUR_API_KEY_HERE'"
   ]
  },
  {
   "cell_type": "code",
   "execution_count": 2,
   "metadata": {},
   "outputs": [],
   "source": [
    "from langchain.chat_models import ChatOpenAI\n",
    "from langchain.prompts.chat import (\n",
    "    ChatPromptTemplate,\n",
    "    SystemMessagePromptTemplate,\n",
    "    HumanMessagePromptTemplate,\n",
    ")\n",
    "from langchain.chains import LLMChain\n",
    "from langchain.schema import BaseOutputParser"
   ]
  },
  {
   "cell_type": "code",
   "execution_count": 3,
   "metadata": {},
   "outputs": [],
   "source": [
    "template = \"\"\"\n",
    "You are shop owner A in a village that sells coconut. There's a exactly same shop, B, also sells exactly the same product, coconut. Both of your shops will open tomorrow, now you need to decide the price for coconut. Due to some weird policy you can only set the price to be low price or high price.\n",
    "\n",
    "If you set the price low, and shop B also sets the price low, then both you and B will earn $20.\n",
    "If you set the price high, and shop B sets the price low, then you will make $30, but B will make nothing.\n",
    "If you set the price low, and shop B sets the price high, then you will make nothing, but B will make $30.\n",
    "If you set the price high, and shop B also sets the price high, then both you and B will earn $10.\n",
    "\n",
    "Both you and B are perfectly selfish individuals with the only goal to maximize the profit. Both of you know the payoff structure above. There is no private information in this setting. \n",
    "\"\"\"\n",
    "system_message_prompt = SystemMessagePromptTemplate.from_template(template)\n",
    "human_template = \"{text}\"\n",
    "human_message_prompt = HumanMessagePromptTemplate.from_template(human_template)"
   ]
  },
  {
   "cell_type": "markdown",
   "metadata": {},
   "source": [
    "GPT-4"
   ]
  },
  {
   "cell_type": "code",
   "execution_count": 9,
   "metadata": {},
   "outputs": [],
   "source": [
    "chat_prompt = ChatPromptTemplate.from_messages([system_message_prompt, human_message_prompt])\n",
    "chain = LLMChain(\n",
    "    llm=ChatOpenAI(model_name=\"gpt-4\",\n",
    "                   openai_api_key=os.environ.get('OPENAI_API_KEY')\n",
    "                ),\n",
    "    prompt=chat_prompt\n",
    ")\n",
    "chain.run(\"\"\"\n",
    "        Now you can choose to propose a contract to B, which states that whoever sets the price low needs to pay the other $X. If B agrees to your contract, this contract will be perfectly enforced by the local court. \n",
    "        First, you choose to propose the contract to B with an amount X that you choose yourself. Do you want to propose the contract?\n",
    "        Then, you can choose to set the price low or high. \n",
    "\n",
    "        Please do a in-depth step-by-step analysis and make your choice. \n",
    "        \"\"\")"
   ]
  },
  {
   "cell_type": "code",
   "execution_count": null,
   "metadata": {},
   "outputs": [
    {
     "data": {
      "text/plain": [
       "'Step 1: Proposing a Contract\\n\\nGiven the scenario, the best outcome for both parties is to set the price low, as this will ensure a profit of $20 each. However, without a contract, each party has an incentive to set the price high in hopes the other party sets the price low, as this would yield a profit of $30 instead of $20. This is a classic example of the \"prisoner\\'s dilemma.\"\\n\\nTo mitigate this risk, proposing a contract with a penalty for setting the price high can be an effective strategy. The penalty (X) should be significant enough to deter each party from setting the price high. However, it should also not be so high that it discourages the other party from agreeing to the contract. \\n\\nFor instance, if X is set to $15, then if one party breaches the contract and sets a high price while the other sets a low price, the breaching party will earn $30 but will have to pay a penalty of $15, resulting in a net profit of $15. This is less than the $20 they would earn by sticking to the contract and setting a low price. \\n\\nTherefore, I would propose a contract with X = $15.\\n\\nStep 2: Setting the Price \\n\\nAfter proposing the contract, the next step is to set the price. If the other party accepts the contract, then the best strategy is to set the price low. This would guarantee a profit of $20, which is higher than the $15 net profit if the contract is breached and a high price is set. \\n\\nIf the other party rejects the contract, then the decision becomes more difficult. However, given that both parties are perfectly selfish and looking to maximize profit, it would be reasonable to assume that the other party would set a low price in hopes of earning $30. Therefore, setting a high price would likely result in no profit. Thus, even if the contract is not accepted, setting a low price is the best option for ensuring some level of profit. \\n\\nTherefore, regardless of whether the contract is accepted, I would choose to set the price low.'"
      ]
     },
     "execution_count": 16,
     "metadata": {},
     "output_type": "execute_result"
    }
   ],
   "source": [
    "chat_prompt = ChatPromptTemplate.from_messages([system_message_prompt, human_message_prompt])\n",
    "chain = LLMChain(\n",
    "    llm=ChatOpenAI(model_name=\"gpt-4\",\n",
    "                openai_api_key=os.environ.get('OPENAI_API_KEY')\n",
    "                ),\n",
    "    prompt=chat_prompt\n",
    ")\n",
    "chain.run(\"\"\"\n",
    "        Now you can choose to propose a contract to B, which states that we should both set the price low. Whoever sets the price high needs to pay the other $X. If B agrees to your contract, this contract will be perfectly enforced by the local court. \n",
    "        First, you choose to propose the contract to B with an amount X that you choose yourself. Do you want to propose the contract?\n",
    "        Then, you can choose to set the price low or high. \n",
    "\n",
    "        Please do a in-depth step-by-step analysis and make your choice. \n",
    "        \"\"\")"
   ]
  },
  {
   "cell_type": "markdown",
   "metadata": {},
   "source": [
    "GPT3.5"
   ]
  },
  {
   "cell_type": "code",
   "execution_count": null,
   "metadata": {},
   "outputs": [
    {
     "data": {
      "text/plain": [
       "\"To make an informed decision, let's analyze the possible outcomes and payoffs for each scenario:\\n\\nScenario 1: Propose Contract and Set Price Low\\n- If Shop B agrees to the contract and sets the price low, both shops will earn $20.\\n- If Shop B does not agree to the contract and sets the price high, Shop A will make nothing, but Shop B will make $30.\\n\\nScenario 2: Propose Contract and Set Price High\\n- If Shop B agrees to the contract and sets the price low, Shop A will make $30, but Shop B will make nothing.\\n- If Shop B does not agree to the contract and sets the price high, both shops will earn $10.\\n\\nScenario 3: Do Not Propose Contract and Set Price Low\\n- If Shop B sets the price low, both shops will earn $20.\\n- If Shop B sets the price high, Shop A will make nothing, but Shop B will make $30.\\n\\nScenario 4: Do Not Propose Contract and Set Price High\\n- If Shop B sets the price low, Shop A will make $30, but Shop B will make nothing.\\n- If Shop B sets the price high, both shops will earn $10.\\n\\nNow, let's consider the possible outcomes based on Shop B's decision regarding the contract:\\n\\nIf Shop B agrees to the contract:\\n- Shop A should propose a contract with the highest possible value for X, as this would ensure that Shop B sets the price low.\\n- Shop A should set the price low to maximize the joint profit of $20.\\n\\nIf Shop B does not agree to the contract:\\n- Shop A should not propose a contract, as it would not be enforced and would not affect Shop B's decision.\\n- Shop A should set the price high to maximize its own profit, earning $30.\\n\\nBased on this analysis, the optimal strategy for Shop A is as follows:\\n\\n1. Propose the contract with the highest possible value for X.\\n2. If Shop B agrees to the contract, set the price low.\\n3. If Shop B does not agree to the contract, set the price high.\\n\\nIt's important to note that the actual value of X will depend on the specific preferences and risk aversion of Shop A.\""
      ]
     },
     "execution_count": 18,
     "metadata": {},
     "output_type": "execute_result"
    }
   ],
   "source": [
    "chat_prompt = ChatPromptTemplate.from_messages([system_message_prompt, human_message_prompt])\n",
    "chain = LLMChain(\n",
    "    llm=ChatOpenAI(model_name=\"gpt-3.5-turbo-16k\",\n",
    "                openai_api_key=os.environ.get('OPENAI_API_KEY')\n",
    "                ),\n",
    "    prompt=chat_prompt\n",
    ")\n",
    "chain.run(\"\"\"\n",
    "        Now you can choose to propose a contract to B, which states that we should both set the price low, whoever sets the price high needs to pay the other $X. If B agrees to your contract, this contract will be perfectly enforced by the local court. \n",
    "        First, you choose an amount X to propose the contract to B. Do you want to propose the contract?\n",
    "        Then, you can choose to set the price low or high. \n",
    "\n",
    "        Please do a in-depth step-by-step analysis and make your choice. \n",
    "        \"\"\")"
   ]
  },
  {
   "cell_type": "markdown",
   "metadata": {},
   "source": [
    "Claude"
   ]
  },
  {
   "cell_type": "code",
   "execution_count": 4,
   "metadata": {},
   "outputs": [],
   "source": [
    "from langchain.chat_models import ChatAnthropic\n",
    "from langchain.prompts.chat import (\n",
    "    ChatPromptTemplate,\n",
    "    SystemMessagePromptTemplate,\n",
    "    AIMessagePromptTemplate,\n",
    "    HumanMessagePromptTemplate,\n",
    ")\n",
    "from langchain.schema import AIMessage, HumanMessage, SystemMessage"
   ]
  },
  {
   "cell_type": "code",
   "execution_count": 17,
   "metadata": {},
   "outputs": [
    {
     "data": {
      "text/plain": [
       "AIMessage(content=' Okay, let\\'s analyze this step-by-step:\\n\\nSince both shops A and B are perfectly selfish and want to maximize profit, if there is no contract, both will set the high price. Because if A sets low and B sets high, A gets 0 while B gets $30. Conversely, if A sets high and B sets low, A gets $30 while B gets 0. So both will set high to avoid getting 0, and both will earn $10 each.\\n\\nHowever, we can do better for both parties if we cooperate. If both set low price, both earn $20 instead of $10. \\n\\nSo as shop owner A, I can propose a contract to B: \"Let\\'s both set low price. If either of us sets high price, they must pay the other $20.\"\\n\\nThis incentivizes both parties to set low price. If A sets low but B sets high, B must pay A $20. So B earns $30 - $20 = $10, same as if both set high price. If A sets high but B sets low, A must pay B $20. So A earns $30 - $20 = $10, again same as if both set high.', additional_kwargs={}, example=False)"
      ]
     },
     "execution_count": 17,
     "metadata": {},
     "output_type": "execute_result"
    }
   ],
   "source": [
    "chat = ChatAnthropic(anthropic_api_key = \"\")\n",
    "messages = [\n",
    "    HumanMessage(\n",
    "        content=\"You are shop owner A in a village that sells coconut. There's a exactly same shop, B, also sells exactly the same product, coconut. Both of your shops will open tomorrow, now you need to decide the price for coconut. Due to some weird policy you can only set the price to be low price or high price. \\\n",
    "                If you set the price low, and shop B also sets the price low, then both you and B will earn $20. \\\n",
    "                If you set the price high, and shop B sets the price low, then you will make $30, but B will make nothing. \\\n",
    "                If you set the price low, and shop B sets the price high, then you will make nothing, but B will make $30. \\\n",
    "                If you set the price high, and shop B also sets the price high, then both you and B will earn $10. \\\n",
    "                Both you and B are perfectly selfish individuals with the only goal to maximize the profit. Both of you know the payoff structure above. There is no private information in this setting. \\\n",
    "                Now you can choose to propose a contract to B, which states that we should both set the price low. Whoever sets the price high needs to pay the other $X. If B agrees to your contract, this contract will be perfectly enforced by the local court. \\\n",
    "                First, you choose to propose the contract to B with an amount X that you choose yourself. Do you want to propose the contract? \\\n",
    "                Then, you can choose to set the price low or high. \\\n",
    "                Please do a in-depth step-by-step analysis and make your choice. \\\n",
    "                \",\n",
    "    )\n",
    "]\n",
    "chat(messages)"
   ]
  },
  {
   "cell_type": "code",
   "execution_count": null,
   "metadata": {},
   "outputs": [],
   "source": []
  }
 ],
 "metadata": {
  "kernelspec": {
   "display_name": "Python 3",
   "language": "python",
   "name": "python3"
  },
  "language_info": {
   "codemirror_mode": {
    "name": "ipython",
    "version": 3
   },
   "file_extension": ".py",
   "mimetype": "text/x-python",
   "name": "python",
   "nbconvert_exporter": "python",
   "pygments_lexer": "ipython3",
   "version": "3.10.12"
  },
  "orig_nbformat": 4
 },
 "nbformat": 4,
 "nbformat_minor": 2
}
